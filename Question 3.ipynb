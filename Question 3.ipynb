{
 "cells": [
  {
   "cell_type": "code",
   "execution_count": null,
   "id": "f2d675da",
   "metadata": {},
   "outputs": [],
   "source": [
    "import math\n",
    "class Circle:\n",
    "  def __init__(self,Xo,Yo,r):\n",
    "    self.Xo=Xo\n",
    "    self.Yo=Yo\n",
    "    self.r=r\n",
    "  def area(self):\n",
    "    return self.r*self.r*2\n",
    "  def perimiter(self):\n",
    "    return 2*math.pi*self.r\n",
    "  def isInside(self,x,y):\n",
    "    if (x - self.Xo)**2 + (y - self.Yo)**2 ==self.r**2:\n",
    "      return \"\\na belongs to the cercle\"\n",
    "    else:\n",
    "      return \"\\na doesn't belong to the cercle\"\n",
    "teste=Circle(float(input(\"X(o)= \")),float(input(\"Y(o)= \")),float(input(\"radius= \")))\n",
    "print(\"\\narea=\",teste.area(),\"\\nperimiter=\",teste.perimiter(),teste.isInside(float(input(\"X(a)= \")),float(input(\"Y(a)= \"))))"
   ]
  }
 ],
 "metadata": {
  "kernelspec": {
   "display_name": "Python 3",
   "language": "python",
   "name": "python3"
  },
  "language_info": {
   "codemirror_mode": {
    "name": "ipython",
    "version": 3
   },
   "file_extension": ".py",
   "mimetype": "text/x-python",
   "name": "python",
   "nbconvert_exporter": "python",
   "pygments_lexer": "ipython3",
   "version": "3.8.8"
  }
 },
 "nbformat": 4,
 "nbformat_minor": 5
}
