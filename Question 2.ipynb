{
 "cells": [
  {
   "cell_type": "code",
   "execution_count": null,
   "id": "4a89fad6",
   "metadata": {},
   "outputs": [],
   "source": [
    "class Rectangle:\n",
    "  def __init__(self,length,width):\n",
    "    self.length=length\n",
    "    self.width=width\n",
    "  def area(self):\n",
    "    return(self.length*self.width)\n",
    "  def perimiter(self):\n",
    "    return(2*(self.length+self.width))\n",
    "my_rectangle= Rectangle(float(input(\"Length: \")),float(input(\"Width: \")))\n",
    "print(\"Area:\",my_rectangle.area(),'\\n'\"Perimiter:\",my_rectangle.perimiter())"
   ]
  },
  {
   "cell_type": "code",
   "execution_count": null,
   "id": "87859118",
   "metadata": {},
   "outputs": [],
   "source": []
  }
 ],
 "metadata": {
  "kernelspec": {
   "display_name": "Python 3",
   "language": "python",
   "name": "python3"
  },
  "language_info": {
   "codemirror_mode": {
    "name": "ipython",
    "version": 3
   },
   "file_extension": ".py",
   "mimetype": "text/x-python",
   "name": "python",
   "nbconvert_exporter": "python",
   "pygments_lexer": "ipython3",
   "version": "3.8.8"
  }
 },
 "nbformat": 4,
 "nbformat_minor": 5
}
