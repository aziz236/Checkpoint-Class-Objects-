{
 "cells": [
  {
   "cell_type": "code",
   "execution_count": 103,
   "id": "5f94ebc6",
   "metadata": {},
   "outputs": [
    {
     "name": "stdout",
     "output_type": "stream",
     "text": [
      "Add your balance: 5\n",
      "Add deposit: 5\n",
      "you deposited: 5.0\n",
      "how much would you like to whithdraw: 4\n",
      "you withdrew:  4.0\n",
      "your new balance is:  6.0\n"
     ]
    }
   ],
   "source": [
    "class Bank:\n",
    "  def __init__(self):\n",
    "    self.balance=(float(input(\"Add your balance: \")))\n",
    "  def deposit(self):\n",
    "    self.deposit=(float(input(\"Add deposit: \")))\n",
    "    print(\"you deposited:\",self.deposit)\n",
    "  def withdraw(self):\n",
    "    self.amount=(float(input(\"how much would you like to whithdraw: \")))\n",
    "    if self.amount<=self.balance+self.deposit:\n",
    "        print (\"you withdrew: \",self.amount)\n",
    "    else:\n",
    "        print(\"you cannot withdraw this amount\")\n",
    "  def new(self):\n",
    "    balance=self.balance+self.deposit-self.amount\n",
    "    print(\"your new balance is: \",balance)\n",
    "add=Bank()\n",
    "add.deposit()\n",
    "add.withdraw()\n",
    "add.new()"
   ]
  },
  {
   "cell_type": "code",
   "execution_count": null,
   "id": "4c960cf5",
   "metadata": {},
   "outputs": [],
   "source": []
  }
 ],
 "metadata": {
  "kernelspec": {
   "display_name": "Python 3",
   "language": "python",
   "name": "python3"
  }
 },
 "nbformat": 4,
 "nbformat_minor": 5
}
